{
 "cells": [
  {
   "cell_type": "markdown",
   "metadata": {},
   "source": [
    "## python基础入门"
   ]
  },
  {
   "cell_type": "code",
   "execution_count": 1,
   "metadata": {},
   "outputs": [
    {
     "name": "stdout",
     "output_type": "stream",
     "text": [
      "hello woorld\n"
     ]
    }
   ],
   "source": [
    "print(\"hello woorld\")"
   ]
  },
  {
   "cell_type": "code",
   "execution_count": 2,
   "metadata": {},
   "outputs": [
    {
     "name": "stdout",
     "output_type": "stream",
     "text": [
      "1 2 3 4 5\n"
     ]
    }
   ],
   "source": [
    "print(1,2,3,4,5)"
   ]
  },
  {
   "cell_type": "code",
   "execution_count": 4,
   "metadata": {},
   "outputs": [
    {
     "name": "stdout",
     "output_type": "stream",
     "text": [
      "1 2\n"
     ]
    }
   ],
   "source": [
    "acc=1\n",
    "epoch=2\n",
    "print(acc,epoch) # acc为深度学习模型训练的精度指标，epoch为轮数"
   ]
  },
  {
   "cell_type": "code",
   "execution_count": 5,
   "metadata": {},
   "outputs": [
    {
     "name": "stdout",
     "output_type": "stream",
     "text": [
      "1 2 3 4 5\n",
      "1->2->3->4->5\n"
     ]
    }
   ],
   "source": [
    "print(1,2,3,4,5)\n",
    "print(1,2,3,4,5,sep=\"->\") # sep指定输出的分隔"
   ]
  },
  {
   "cell_type": "code",
   "execution_count": 7,
   "metadata": {},
   "outputs": [
    {
     "name": "stdout",
     "output_type": "stream",
     "text": [
      "1 2 3 4 5\t1 2 3 4 5\n"
     ]
    }
   ],
   "source": [
    "print(1,2,3,4,5,end=\"\\t\") # \\t为制表符，默认一个tab\n",
    "print(1,2,3,4,5)\n"
   ]
  },
  {
   "cell_type": "code",
   "execution_count": 8,
   "metadata": {},
   "outputs": [
    {
     "name": "stdout",
     "output_type": "stream",
     "text": [
      "1 2 3 4 5\n",
      "1 2 3 4 5\n"
     ]
    }
   ],
   "source": [
    "print(1,2,3,4,5) # \\n为换行\n",
    "print(1,2,3,4,5)"
   ]
  },
  {
   "cell_type": "code",
   "execution_count": 1,
   "metadata": {},
   "outputs": [],
   "source": [
    "f = open(\"test.txt\",\"a\") # 若没有此txt文件则先创建，然后将内容追加在末尾\n",
    "print(\"\\n\",file=f)\n",
    "print(\"中文报错，print后面括号为中文（）\",file=f)\n",
    "f.close()"
   ]
  },
  {
   "cell_type": "code",
   "execution_count": 2,
   "metadata": {},
   "outputs": [
    {
     "name": "stdout",
     "output_type": "stream",
     "text": [
      "0.30000000000000004\n"
     ]
    }
   ],
   "source": [
    "print(0.1+0.2)"
   ]
  },
  {
   "cell_type": "code",
   "execution_count": 8,
   "metadata": {},
   "outputs": [
    {
     "name": "stdout",
     "output_type": "stream",
     "text": [
      "1690473024512\n",
      "1690473024512\n"
     ]
    }
   ],
   "source": [
    "list1 =  [1,2,3,5]\n",
    "print(id(list1))\n",
    "list1[1] = 5\n",
    "print(id(list1))"
   ]
  },
  {
   "cell_type": "markdown",
   "metadata": {},
   "source": [
    "## 格式化输出"
   ]
  },
  {
   "cell_type": "code",
   "execution_count": null,
   "metadata": {},
   "outputs": [
    {
     "name": "stdout",
     "output_type": "stream",
     "text": [
      "我叫qianyu，今年18岁啦\n"
     ]
    }
   ],
   "source": [
    "# 第一种 ———— 用 % (   )   来填充输出\n",
    "print(\"我叫%s，今年%d岁啦\" % (\"qianyu\",18)) # %s为字符串 %d为整型"
   ]
  },
  {
   "cell_type": "code",
   "execution_count": null,
   "metadata": {},
   "outputs": [
    {
     "name": "stdout",
     "output_type": "stream",
     "text": [
      "学校的名称是点头教育，学习的网站是wwww.diantouedu.cn\n"
     ]
    }
   ],
   "source": [
    "# 第二种 ———— 用 format 函数 进行格式化输出\n",
    "print(\"学校的名称是{}，学习的网站是{}\".format(\"点头教育\",\"wwww.diantouedu.cn\"))"
   ]
  },
  {
   "cell_type": "code",
   "execution_count": null,
   "metadata": {},
   "outputs": [
    {
     "name": "stdout",
     "output_type": "stream",
     "text": [
      "我叫做qianyu,今年19岁啦\n",
      "我叫做qianyu,今年19岁啦\n",
      "我叫做qianyu,今年19岁啦\n",
      "我叫做qianyu,今年19岁啦\n"
     ]
    }
   ],
   "source": [
    "# 第三种 ———— f表达式  格式化输出\n",
    "name = \"qianyu\"\n",
    "age = 19\n",
    "print(f\"我叫做{name},今年{age}岁啦\")\n",
    "print(f\"我叫做{name},今年{age}岁啦\")\n",
    "print(f\"我叫做{name},今年{age}岁啦\")\n",
    "print(f\"我叫做{name},今年{age}岁啦\")"
   ]
  },
  {
   "cell_type": "code",
   "execution_count": 5,
   "metadata": {},
   "outputs": [
    {
     "name": "stdout",
     "output_type": "stream",
     "text": [
      "我叫做qianyu，今年19岁啦\n",
      "我叫做qianyu，今年19岁啦\n",
      "我叫做qianyu，今年19岁啦\n",
      "我叫做qianyu，今年19岁啦\n"
     ]
    }
   ],
   "source": [
    "print(\"我叫做qianyu，今年19岁啦\")\n",
    "print(\"我叫做qianyu，今年19岁啦\")\n",
    "print(\"我叫做qianyu，今年19岁啦\")\n",
    "print(\"我叫做qianyu，今年19岁啦\")"
   ]
  },
  {
   "cell_type": "code",
   "execution_count": 4,
   "metadata": {},
   "outputs": [
    {
     "name": "stdout",
     "output_type": "stream",
     "text": [
      "训练轮数为1\n"
     ]
    }
   ],
   "source": [
    "epoch = 1\n",
    "print(f\"训练轮数为{epoch}\")"
   ]
  },
  {
   "cell_type": "code",
   "execution_count": 3,
   "metadata": {},
   "outputs": [
    {
     "name": "stdout",
     "output_type": "stream",
     "text": [
      "['False', 'None', 'True', '__peg_parser__', 'and', 'as', 'assert', 'async', 'await', 'break', 'class', 'continue', 'def', 'del', 'elif', 'else', 'except', 'finally', 'for', 'from', 'global', 'if', 'import', 'in', 'is', 'lambda', 'nonlocal', 'not', 'or', 'pass', 'raise', 'return', 'try', 'while', 'with', 'yield']\n"
     ]
    }
   ],
   "source": [
    "import keyword\n",
    "print(keyword.kwlist)"
   ]
  },
  {
   "cell_type": "markdown",
   "metadata": {},
   "source": [
    "## 变量"
   ]
  },
  {
   "cell_type": "code",
   "execution_count": 8,
   "metadata": {},
   "outputs": [
    {
     "name": "stdout",
     "output_type": "stream",
     "text": [
      "2437147683120\n",
      "2437147683152\n"
     ]
    }
   ],
   "source": [
    "a = 1\n",
    "print(id(a)) \n",
    "# print(type(a)) ctrl+/为整体注释\n",
    "a = 2\n",
    "print(id(a))"
   ]
  },
  {
   "cell_type": "markdown",
   "metadata": {},
   "source": [
    "## 输入函数"
   ]
  },
  {
   "cell_type": "code",
   "execution_count": 9,
   "metadata": {},
   "outputs": [
    {
     "name": "stdout",
     "output_type": "stream",
     "text": [
      "hello\n",
      "<class 'str'>\n"
     ]
    }
   ],
   "source": [
    "age = input() # 无论输入的是什么 都会被转化为字符串类型\n",
    "print(age)\n",
    "print(type(age))"
   ]
  }
 ],
 "metadata": {
  "kernelspec": {
   "display_name": "pytorch",
   "language": "python",
   "name": "python3"
  },
  "language_info": {
   "codemirror_mode": {
    "name": "ipython",
    "version": 3
   },
   "file_extension": ".py",
   "mimetype": "text/x-python",
   "name": "python",
   "nbconvert_exporter": "python",
   "pygments_lexer": "ipython3",
   "version": "3.12.9"
  }
 },
 "nbformat": 4,
 "nbformat_minor": 2
}
