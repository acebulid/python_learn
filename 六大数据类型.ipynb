{
 "cells": [
  {
   "cell_type": "code",
   "execution_count": 1,
   "metadata": {},
   "outputs": [
    {
     "name": "stdout",
     "output_type": "stream",
     "text": [
      "<class 'int'>\n",
      "3\n",
      "2\n",
      "0.5\n",
      "-1\n"
     ]
    }
   ],
   "source": [
    "#整型\n",
    "a = 1 #<class 'int'> 等号：==\n",
    "b = 2\n",
    "print(type(a))\n",
    "c = a+b\n",
    "f = a-b\n",
    "d = a*b\n",
    "e = a/b # 除法运算 / 的结果总是浮点数，即使操作数是整数\n",
    "print(c)\n",
    "print(d)\n",
    "print(e)\n",
    "print(f)"
   ]
  },
  {
   "cell_type": "code",
   "execution_count": null,
   "metadata": {},
   "outputs": [
    {
     "name": "stdout",
     "output_type": "stream",
     "text": [
      "3\n",
      "3.6666666666666665\n",
      "8\n"
     ]
    }
   ],
   "source": [
    "a = 11\n",
    "b = 3\n",
    "\n",
    "c = a//b # 整除 只要整数部分\n",
    "print(c)\n",
    "\n",
    "d = a/b\n",
    "print(d)\n",
    "\n",
    "f = 2\n",
    "g  = 2**3 #幂运算 相当于2^3\n",
    "print(g)"
   ]
  },
  {
   "cell_type": "code",
   "execution_count": 6,
   "metadata": {},
   "outputs": [
    {
     "name": "stdout",
     "output_type": "stream",
     "text": [
      "<class 'float'>\n"
     ]
    }
   ],
   "source": [
    "a = 1.2 #<class 'float'>\n",
    "print(type(a))"
   ]
  },
  {
   "cell_type": "code",
   "execution_count": 11,
   "metadata": {},
   "outputs": [
    {
     "name": "stdout",
     "output_type": "stream",
     "text": [
      "0.30\n"
     ]
    }
   ],
   "source": [
    "a = 0.1\n",
    "b = 0.2\n",
    "c= a+b\n",
    "print(\"%.2f\" %(c)) # 格式化输出 默认保留2位"
   ]
  },
  {
   "cell_type": "code",
   "execution_count": 4,
   "metadata": {},
   "outputs": [
    {
     "name": "stdout",
     "output_type": "stream",
     "text": [
      "1000.0\n",
      "10000.0\n"
     ]
    }
   ],
   "source": [
    "# 科学计数法\n",
    "d = 1e3 #1*10^3  浮点型\n",
    "e = 1e4\n",
    "print(d)\n",
    "print(e)\n"
   ]
  },
  {
   "cell_type": "code",
   "execution_count": 13,
   "metadata": {},
   "outputs": [
    {
     "name": "stdout",
     "output_type": "stream",
     "text": [
      "True\n",
      "<class 'bool'>\n"
     ]
    }
   ],
   "source": [
    "# bool类型\n",
    "print(True)\n",
    "print(type(True)) #<class 'bool'>"
   ]
  },
  {
   "cell_type": "code",
   "execution_count": null,
   "metadata": {},
   "outputs": [
    {
     "name": "stdout",
     "output_type": "stream",
     "text": [
      "2\n",
      "1\n",
      "<class 'int'>\n"
     ]
    }
   ],
   "source": [
    "print(True+1) # True的值为1\n",
    "print(False+1) #False的值为0"
   ]
  },
  {
   "cell_type": "code",
   "execution_count": null,
   "metadata": {},
   "outputs": [
    {
     "data": {
      "text/plain": [
       "False"
      ]
     },
     "execution_count": 19,
     "metadata": {},
     "output_type": "execute_result"
    }
   ],
   "source": [
    "# 一般0、None、False、空字符串都是False\n",
    "bool(\"\")"
   ]
  },
  {
   "cell_type": "code",
   "execution_count": 20,
   "metadata": {},
   "outputs": [
    {
     "data": {
      "text/plain": [
       "(1+2j)"
      ]
     },
     "execution_count": 20,
     "metadata": {},
     "output_type": "execute_result"
    }
   ],
   "source": [
    "# 复数类型\n",
    "a = complex(1,2)\n",
    "a"
   ]
  },
  {
   "cell_type": "code",
   "execution_count": null,
   "metadata": {},
   "outputs": [
    {
     "name": "stdout",
     "output_type": "stream",
     "text": [
      "(1+2j)\n",
      "<class 'complex'>\n",
      "(1+2j)\n",
      "<class 'complex'>\n"
     ]
    }
   ],
   "source": [
    "b = 1+2j\n",
    "print(b)\n",
    "print(type(b)) #<class 'complex'>"
   ]
  },
  {
   "cell_type": "code",
   "execution_count": 1,
   "metadata": {},
   "outputs": [
    {
     "name": "stdout",
     "output_type": "stream",
     "text": [
      "hello world\n",
      "<class 'str'>\n",
      "woshiqianyu\n",
      "jinnian18\n",
      "身高185\n",
      "\n"
     ]
    }
   ],
   "source": [
    "# 字符串类型\n",
    "str1='hello world' # '   \"  \"\"\"\"\"\" 定义的都是字符串\n",
    "print(str1)\n",
    "print(type(str1)) #<class 'str'>\n",
    "str2 = \"\"\"woshiqianyu\n",
    "jinnian18\n",
    "身高185\n",
    "\"\"\"\n",
    "print(str2)\n"
   ]
  },
  {
   "cell_type": "code",
   "execution_count": 11,
   "metadata": {},
   "outputs": [
    {
     "data": {
      "text/plain": [
       "'woshiqianyu\\njinnian18\\n身高185\\n'"
      ]
     },
     "execution_count": 11,
     "metadata": {},
     "output_type": "execute_result"
    }
   ],
   "source": [
    "\"\"\"woshiqianyu\n",
    "jinnian18\n",
    "身高185\n",
    "\"\"\"  #可以当作注释并不影响程序的执行"
   ]
  },
  {
   "cell_type": "code",
   "execution_count": 34,
   "metadata": {},
   "outputs": [
    {
     "name": "stdout",
     "output_type": "stream",
     "text": [
      "hello world\n"
     ]
    }
   ],
   "source": [
    "str1 = \"hello\"\n",
    "str2 = \"world\"\n",
    "str3 = str1+\" \"+str2 # 字符串的拼接\n",
    "print(str3)"
   ]
  },
  {
   "cell_type": "code",
   "execution_count": 23,
   "metadata": {},
   "outputs": [
    {
     "name": "stdout",
     "output_type": "stream",
     "text": [
      "ello world\n",
      "el ol\n",
      "el ol\n",
      "hello world\n",
      "ello worl\n"
     ]
    }
   ],
   "source": [
    "str1 = \"hello world\"\n",
    "\n",
    "# 字符串的切片 通过索引  [start:end:step]  左闭右开的格式来取\n",
    "# start : 默认为 0 \n",
    "# end : 默认为 空 ， -1 就是最后一个字符\n",
    "# step : 默认为 1\n",
    "\n",
    "print(str1[1::]) #ello world\n",
    "print(str1[1:-1:2]) #el ol\n",
    "print(str1[-10:-1:2]) #el ol\n",
    "print(str1[:]) # hello world\n",
    "\n",
    "str2 = str1[1:-1:1] \n",
    "print(str2)"
   ]
  },
  {
   "cell_type": "code",
   "execution_count": null,
   "metadata": {},
   "outputs": [
    {
     "name": "stdout",
     "output_type": "stream",
     "text": [
      "140730489510576\n",
      "<class 'str'>\n"
     ]
    }
   ],
   "source": [
    "a = \"abc\"\n",
    "print(id(a))\n",
    "a = \"bcd\"\n",
    "print(id(a))\n",
    "print(type(a))\n"
   ]
  },
  {
   "cell_type": "code",
   "execution_count": 15,
   "metadata": {},
   "outputs": [
    {
     "data": {
      "text/plain": [
       "[0, 1, 2, 3, 4, 5, 6, 7, 8, 9]"
      ]
     },
     "execution_count": 15,
     "metadata": {},
     "output_type": "execute_result"
    }
   ],
   "source": [
    "# 列表定义方式\n",
    "lst8 = list(range(10))  # range(0,10) 左闭右开\n",
    "lst8"
   ]
  },
  {
   "cell_type": "code",
   "execution_count": 21,
   "metadata": {},
   "outputs": [
    {
     "name": "stdout",
     "output_type": "stream",
     "text": [
      "1605203885952\n",
      "[1, 2, 3, 4, 5, 6, 1]\n",
      "<class 'list'>\n",
      "[1, 2, 3, 4, 5, 6, 1, 7]\n",
      "1605203885952\n"
     ]
    }
   ],
   "source": [
    "# 列表\n",
    "lst1 = [1,2,3,4,5,6,1] #<class 'list'>\n",
    "print(id(lst1))\n",
    "print(lst1)\n",
    "print(type(lst1))\n",
    "# 增\n",
    "lst1.append(7)\n",
    "print(lst1)\n",
    "print(id(lst1))"
   ]
  },
  {
   "cell_type": "code",
   "execution_count": 22,
   "metadata": {},
   "outputs": [
    {
     "data": {
      "text/plain": [
       "[2, 3, 4, 5, 6, 1, 7]"
      ]
     },
     "execution_count": 22,
     "metadata": {},
     "output_type": "execute_result"
    }
   ],
   "source": [
    "# 删除\n",
    "lst1.remove(1)\n",
    "lst1"
   ]
  },
  {
   "cell_type": "code",
   "execution_count": null,
   "metadata": {},
   "outputs": [
    {
     "data": {
      "text/plain": [
       "['world', 2, 3, 4, 5, 'hello']"
      ]
     },
     "execution_count": 53,
     "metadata": {},
     "output_type": "execute_result"
    }
   ],
   "source": [
    "#改\n",
    "lst2 = [1,2,3,4,5,\"hello\"]\n",
    "lst2[0] = \"world\"\n",
    "lst2"
   ]
  },
  {
   "cell_type": "code",
   "execution_count": 57,
   "metadata": {},
   "outputs": [
    {
     "data": {
      "text/plain": [
       "1"
      ]
     },
     "execution_count": 57,
     "metadata": {},
     "output_type": "execute_result"
    }
   ],
   "source": [
    "# 查\n",
    "lst2 = [1,2,3,4,5,\"hello\"]\n",
    "lst2[0]"
   ]
  },
  {
   "cell_type": "code",
   "execution_count": 62,
   "metadata": {},
   "outputs": [
    {
     "name": "stdout",
     "output_type": "stream",
     "text": [
      "[1, 2, 4, 'hello', 'world']\n",
      "[2, 4, 'hello', 'world']\n",
      "[2, 4, 'hello']\n",
      "[1, 4, 'world']\n"
     ]
    }
   ],
   "source": [
    "# 切片\n",
    "lst3 = [1,2,4,\"hello\",\"world\"]\n",
    "print(lst3[:])\n",
    "print(lst3[1:])\n",
    "print(lst3[1:-1]) # 切片特性 左闭右开 \n",
    "print(lst3[::2]) #[1, 4, 'world']"
   ]
  },
  {
   "cell_type": "code",
   "execution_count": 70,
   "metadata": {},
   "outputs": [
    {
     "name": "stdout",
     "output_type": "stream",
     "text": [
      "10\n",
      "1\n",
      "3\n",
      "0\n"
     ]
    }
   ],
   "source": [
    "lst4 = [1,2,4,6,7,8,9,10,1,1] # list 列表\n",
    "a = max(lst4)\n",
    "print(a)\n",
    "b = min(lst4)\n",
    "print(b)\n",
    "c = lst4.count(1)\n",
    "print(c)\n",
    "d = lst4.index(1)\n",
    "print(d) # 0"
   ]
  },
  {
   "cell_type": "code",
   "execution_count": 25,
   "metadata": {},
   "outputs": [
    {
     "name": "stdout",
     "output_type": "stream",
     "text": [
      "[1, 2, 4, 6, 7, 8, 9, 10]\n"
     ]
    },
    {
     "data": {
      "text/plain": [
       "[10, 9, 8, 7, 6, 4, 2, 1]"
      ]
     },
     "execution_count": 25,
     "metadata": {},
     "output_type": "execute_result"
    }
   ],
   "source": [
    "# 排序\n",
    "lst5 = [1,2,4,6,7,8,9,10]\n",
    "lst5.sort() # 由小到大排序\n",
    "print(lst5)\n",
    "lst5.sort(reverse=True) # 由大到小排序\n",
    "lst5"
   ]
  },
  {
   "cell_type": "code",
   "execution_count": 73,
   "metadata": {},
   "outputs": [
    {
     "name": "stdout",
     "output_type": "stream",
     "text": [
      "[[1, 2, 3], [4, 5, 6]]\n"
     ]
    }
   ],
   "source": [
    "lst6 =  [[1,2,3],\n",
    "         [4,5,6]]\n",
    "print(lst6)"
   ]
  },
  {
   "cell_type": "code",
   "execution_count": 79,
   "metadata": {},
   "outputs": [
    {
     "name": "stdout",
     "output_type": "stream",
     "text": [
      "(1, 2, 3)\n",
      "<class 'tuple'>\n"
     ]
    },
    {
     "data": {
      "text/plain": [
       "(1, 2, 3)"
      ]
     },
     "execution_count": 79,
     "metadata": {},
     "output_type": "execute_result"
    }
   ],
   "source": [
    "# 元组\n",
    "tup1 = (1,2,3)\n",
    "print(tup1)\n",
    "print(type(tup1)) #<class 'tuple'>\n",
    "# 查\n",
    "tup1[1:]\n",
    "tup1[:] # (1, 2, 3)"
   ]
  },
  {
   "cell_type": "code",
   "execution_count": 83,
   "metadata": {},
   "outputs": [
    {
     "data": {
      "text/plain": [
       "(1, 2)"
      ]
     },
     "execution_count": 83,
     "metadata": {},
     "output_type": "execute_result"
    }
   ],
   "source": [
    "tup2 = (1,2,3)\n",
    "tup2 = (1,2)\n",
    "tup2"
   ]
  },
  {
   "cell_type": "code",
   "execution_count": 26,
   "metadata": {},
   "outputs": [
    {
     "name": "stdout",
     "output_type": "stream",
     "text": [
      "{1, 2, 3, 4, 5}\n",
      "<class 'set'>\n",
      "{1, 2, 3, 4, 5, 6}\n",
      "{2, 3, 4, 5, 6}\n"
     ]
    }
   ],
   "source": [
    "# 集合\n",
    "a = {1,2,3,4,5,5,5}\n",
    "print(a)\n",
    "print(type(a)) #<class 'set'>\n",
    "a.add(6) # 增加 \n",
    "print(a)\n",
    "a.remove(1) # 删除\n",
    "print(a) #{2, 3, 4, 5, 6}\n"
   ]
  },
  {
   "cell_type": "code",
   "execution_count": 87,
   "metadata": {},
   "outputs": [
    {
     "name": "stdout",
     "output_type": "stream",
     "text": [
      "{3, 4}\n"
     ]
    }
   ],
   "source": [
    "# 交集\n",
    "a = {1,2,3,4}\n",
    "b = {3,4,5,6}\n",
    "c = a&b #shift+键盘上方数字7\n",
    "print(c)"
   ]
  },
  {
   "cell_type": "code",
   "execution_count": 88,
   "metadata": {},
   "outputs": [
    {
     "name": "stdout",
     "output_type": "stream",
     "text": [
      "{1, 2, 3, 4, 5, 6}\n"
     ]
    }
   ],
   "source": [
    "# 并集\n",
    "d = a | b # enter上方   shift+enter上方\n",
    "print(d) #{1, 2, 3, 4, 5, 6}"
   ]
  },
  {
   "cell_type": "code",
   "execution_count": 89,
   "metadata": {},
   "outputs": [
    {
     "data": {
      "text/plain": [
       "{'1': 'red', '2': 'green'}"
      ]
     },
     "execution_count": 89,
     "metadata": {},
     "output_type": "execute_result"
    }
   ],
   "source": [
    "dict1 = {\"1\":\"red\",\"2\":\"green\"} # 字典\n",
    "dict1"
   ]
  },
  {
   "cell_type": "code",
   "execution_count": 91,
   "metadata": {},
   "outputs": [
    {
     "data": {
      "text/plain": [
       "{'1': 'red', '2': 'green', '3': 'white'}"
      ]
     },
     "execution_count": 91,
     "metadata": {},
     "output_type": "execute_result"
    }
   ],
   "source": [
    "dict1[\"3\"] = \"white\" # 增加 \n",
    "dict1"
   ]
  },
  {
   "cell_type": "code",
   "execution_count": 92,
   "metadata": {},
   "outputs": [
    {
     "data": {
      "text/plain": [
       "{'2': 'green', '3': 'white'}"
      ]
     },
     "execution_count": 92,
     "metadata": {},
     "output_type": "execute_result"
    }
   ],
   "source": [
    "del dict1[\"1\"] #删除\n",
    "dict1"
   ]
  },
  {
   "cell_type": "code",
   "execution_count": 93,
   "metadata": {},
   "outputs": [
    {
     "data": {
      "text/plain": [
       "'white'"
      ]
     },
     "execution_count": 93,
     "metadata": {},
     "output_type": "execute_result"
    }
   ],
   "source": [
    "dict1[\"3\"] # 查"
   ]
  },
  {
   "cell_type": "code",
   "execution_count": 94,
   "metadata": {},
   "outputs": [
    {
     "data": {
      "text/plain": [
       "{'1': 'black', '2': 'green'}"
      ]
     },
     "execution_count": 94,
     "metadata": {},
     "output_type": "execute_result"
    }
   ],
   "source": [
    "dict2 = {\"1\":\"red\",\"2\":\"green\"} # 改\n",
    "dict2[\"1\"] =  \"black\"\n",
    "dict2"
   ]
  },
  {
   "cell_type": "code",
   "execution_count": null,
   "metadata": {},
   "outputs": [],
   "source": []
  }
 ],
 "metadata": {
  "kernelspec": {
   "display_name": "pytorch",
   "language": "python",
   "name": "python3"
  },
  "language_info": {
   "codemirror_mode": {
    "name": "ipython",
    "version": 3
   },
   "file_extension": ".py",
   "mimetype": "text/x-python",
   "name": "python",
   "nbconvert_exporter": "python",
   "pygments_lexer": "ipython3",
   "version": "3.12.9"
  }
 },
 "nbformat": 4,
 "nbformat_minor": 2
}
