{
 "cells": [
  {
   "cell_type": "code",
   "execution_count": 2,
   "metadata": {},
   "outputs": [
    {
     "name": "stdout",
     "output_type": "stream",
     "text": [
      "2\n",
      "1\n"
     ]
    }
   ],
   "source": [
    "a = 1 # 顺序结构\n",
    "b = 2\n",
    "print(b)\n",
    "print(a)"
   ]
  },
  {
   "cell_type": "code",
   "execution_count": 4,
   "metadata": {},
   "outputs": [
    {
     "name": "stdout",
     "output_type": "stream",
     "text": [
      "1\n"
     ]
    }
   ],
   "source": [
    "# 单分支结构\n",
    "a = 0\n",
    "if a > 1:\n",
    "    print(a)\n",
    "\n",
    "b = 1\n",
    "print(b)"
   ]
  },
  {
   "cell_type": "code",
   "execution_count": 9,
   "metadata": {},
   "outputs": [
    {
     "name": "stdout",
     "output_type": "stream",
     "text": [
      "a的值为正数或者为0\n"
     ]
    }
   ],
   "source": [
    "# 双分支结构\n",
    "a = 0\n",
    "if a >=0:\n",
    "    print(\"a的值为正数或者为0\")\n",
    "else:\n",
    "    print(\"a的值为负数\")\n",
    "    "
   ]
  },
  {
   "cell_type": "code",
   "execution_count": null,
   "metadata": {},
   "outputs": [],
   "source": [
    "# and 当两个表达式或多个表达式都为真 整体才为真          or 表达式中有一个为真则全为真，只有全为假表达式才为假  not 取反"
   ]
  },
  {
   "cell_type": "code",
   "execution_count": 13,
   "metadata": {},
   "outputs": [
    {
     "name": "stdout",
     "output_type": "stream",
     "text": [
      "False\n"
     ]
    }
   ],
   "source": [
    "a = 100 \n",
    "b = 10\n",
    "print(a<90 or b>50) #  a<90 为False  b>50 为False"
   ]
  },
  {
   "cell_type": "code",
   "execution_count": 15,
   "metadata": {},
   "outputs": [
    {
     "name": "stdout",
     "output_type": "stream",
     "text": [
      "True\n"
     ]
    }
   ],
   "source": [
    "a = 100 \n",
    "b = 10\n",
    "print(a<90 or b<50)  # a<90 为False  b<50 为True"
   ]
  },
  {
   "cell_type": "code",
   "execution_count": 14,
   "metadata": {},
   "outputs": [
    {
     "data": {
      "text/plain": [
       "False"
      ]
     },
     "execution_count": 14,
     "metadata": {},
     "output_type": "execute_result"
    }
   ],
   "source": [
    "# not\n",
    "a = 1\n",
    "not(a > 0)"
   ]
  },
  {
   "cell_type": "code",
   "execution_count": 1,
   "metadata": {},
   "outputs": [
    {
     "name": "stdout",
     "output_type": "stream",
     "text": [
      "成绩不及格，准备准备补考吧\n"
     ]
    }
   ],
   "source": [
    "score = int(input(\"请输出学生的成绩：\"))\n",
    "if score<=100 and score>90: \n",
    "    print(\"该学生的成绩为A等，非常不错！\")\n",
    "elif score<=90 and score>80:\n",
    "    print(\"该学生的成绩为B等，也很棒了\")\n",
    "elif score<=80 and score >70:\n",
    "    print(\"该学生的成绩C等，努努力再冲一冲\")\n",
    "elif score<=70 and score>60:\n",
    "    print(\"该学生的成绩为D等，赶紧加劲学习！\")\n",
    "else:\n",
    "    print(\"成绩不及格，准备准备补考吧\")"
   ]
  },
  {
   "cell_type": "code",
   "execution_count": 43,
   "metadata": {},
   "outputs": [
    {
     "name": "stdout",
     "output_type": "stream",
     "text": [
      "年龄还没满18，回家写作业去吧\n"
     ]
    }
   ],
   "source": [
    "# if else 嵌套\n",
    "age = 17\n",
    "money = 9\n",
    "if age >= 18:\n",
    "    print(\"可以进入网吧啦~~~\")\n",
    "    if money >=10:\n",
    "        print(\"金钱充足，可以愉快的上网了\")\n",
    "    else:\n",
    "        print(\"虽然我年龄够了，但是没钱上不了网\")\n",
    "else:\n",
    "    print(\"年龄还没满18，回家写作业去吧\")"
   ]
  },
  {
   "cell_type": "code",
   "execution_count": 23,
   "metadata": {},
   "outputs": [
    {
     "name": "stdout",
     "output_type": "stream",
     "text": [
      "0\n",
      "1\n",
      "2\n",
      "3\n",
      "4\n",
      "5\n",
      "6\n",
      "7\n",
      "8\n",
      "9\n",
      "10\n"
     ]
    }
   ],
   "source": [
    "a = 0 # 初始的赋值变量 判断语句 程序执行的代码体  可迭代的变量\n",
    "while a <= 10:\n",
    "    print(a)\n",
    "    a += 1 # a= a+1\n"
   ]
  },
  {
   "cell_type": "code",
   "execution_count": 24,
   "metadata": {},
   "outputs": [
    {
     "name": "stdout",
     "output_type": "stream",
     "text": [
      "5050\n"
     ]
    }
   ],
   "source": [
    "# 1-100 的和\n",
    "i = 0\n",
    "sum = 0\n",
    "while i<=100:\n",
    "    sum = sum+i # sum += i\n",
    "    i +=1\n",
    "    \n",
    "print(sum)"
   ]
  },
  {
   "cell_type": "code",
   "execution_count": 25,
   "metadata": {},
   "outputs": [
    {
     "name": "stdout",
     "output_type": "stream",
     "text": [
      "2550\n"
     ]
    }
   ],
   "source": [
    "# 求1-100偶数和\n",
    "i = 0\n",
    "sum = 0\n",
    "while i<=100:\n",
    "    sum = sum+i # sum += i\n",
    "    i +=2 # i = i+2\n",
    "    \n",
    "print(sum)"
   ]
  },
  {
   "cell_type": "code",
   "execution_count": 29,
   "metadata": {},
   "outputs": [
    {
     "name": "stdout",
     "output_type": "stream",
     "text": [
      "2550\n"
     ]
    }
   ],
   "source": [
    "# 求1-100偶数和\n",
    "i = 0\n",
    "sum = 0\n",
    "while i<=100:\n",
    "    if i % 2 ==0: # 求余\n",
    "        sum += i\n",
    "    i += 1\n",
    "    \n",
    "print(sum)"
   ]
  },
  {
   "cell_type": "code",
   "execution_count": 26,
   "metadata": {},
   "outputs": [
    {
     "name": "stdout",
     "output_type": "stream",
     "text": [
      "2500\n"
     ]
    }
   ],
   "source": [
    "i = 1 # 1-100奇数和\n",
    "sum = 0\n",
    "while i<=100:\n",
    "    sum = sum+i # sum += i\n",
    "    i +=2 # i = i+2\n",
    "    \n",
    "print(sum)"
   ]
  },
  {
   "cell_type": "code",
   "execution_count": 35,
   "metadata": {},
   "outputs": [
    {
     "name": "stdout",
     "output_type": "stream",
     "text": [
      "1*1=1\t\n",
      "2*1=2\t2*2=4\t\n",
      "3*1=3\t3*2=6\t3*3=9\t\n",
      "4*1=4\t4*2=8\t4*3=12\t4*4=16\t\n",
      "5*1=5\t5*2=10\t5*3=15\t5*4=20\t5*5=25\t\n",
      "6*1=6\t6*2=12\t6*3=18\t6*4=24\t6*5=30\t6*6=36\t\n",
      "7*1=7\t7*2=14\t7*3=21\t7*4=28\t7*5=35\t7*6=42\t7*7=49\t\n",
      "8*1=8\t8*2=16\t8*3=24\t8*4=32\t8*5=40\t8*6=48\t8*7=56\t8*8=64\t\n",
      "9*1=9\t9*2=18\t9*3=27\t9*4=36\t9*5=45\t9*6=54\t9*7=63\t9*8=72\t9*9=81\t\n"
     ]
    }
   ],
   "source": [
    "# 打印九九乘法表\n",
    "i = 1\n",
    "while i<10:\n",
    "    j = 1\n",
    "    while j<=i: \n",
    "        print(f\"{i}*{j}={i*j}\",end=\"\\t\")\n",
    "        j += 1\n",
    "    i+=1\n",
    "    print(end=\"\\n\") # 换行\n"
   ]
  },
  {
   "cell_type": "code",
   "execution_count": null,
   "metadata": {},
   "outputs": [],
   "source": [
    "# * \n",
    "# * * \n",
    "# * * * \n",
    "# * * * * \n",
    "# * * * * *"
   ]
  },
  {
   "cell_type": "code",
   "execution_count": null,
   "metadata": {},
   "outputs": [],
   "source": [
    "print(\"*\")\n",
    "print(\"* * \")"
   ]
  },
  {
   "cell_type": "code",
   "execution_count": 2,
   "metadata": {},
   "outputs": [
    {
     "name": "stdout",
     "output_type": "stream",
     "text": [
      "* \n",
      "* * \n",
      "* * * \n",
      "* * * * \n",
      "* * * * * \n"
     ]
    }
   ],
   "source": [
    "i = 1\n",
    "while i<=5:\n",
    "    print(\"* \"*i)\n",
    "    i += 1"
   ]
  },
  {
   "cell_type": "code",
   "execution_count": 39,
   "metadata": {},
   "outputs": [
    {
     "name": "stdout",
     "output_type": "stream",
     "text": [
      "0\n",
      "1\n",
      "2\n",
      "3\n",
      "4\n",
      "5\n",
      "6\n",
      "7\n",
      "8\n",
      "9\n"
     ]
    }
   ],
   "source": [
    "# for 循环\n",
    "for a in range(10): # range start 0 end 10 step 1 左闭右开 [0,10)\n",
    "    print(a)"
   ]
  },
  {
   "cell_type": "code",
   "execution_count": null,
   "metadata": {},
   "outputs": [
    {
     "name": "stdout",
     "output_type": "stream",
     "text": [
      "1*1=1\t2*1=2\t2*2=4\t3*1=3\t3*2=6\t3*3=9\t4*1=4\t4*2=8\t4*3=12\t4*4=16\t5*1=5\t5*2=10\t5*3=15\t5*4=20\t5*5=25\t6*1=6\t6*2=12\t6*3=18\t6*4=24\t6*5=30\t6*6=36\t7*1=7\t7*2=14\t7*3=21\t7*4=28\t7*5=35\t7*6=42\t7*7=49\t8*1=8\t8*2=16\t8*3=24\t8*4=32\t8*5=40\t8*6=48\t8*7=56\t8*8=64\t9*1=9\t9*2=18\t9*3=27\t9*4=36\t9*5=45\t9*6=54\t9*7=63\t9*8=72\t9*9=81\t"
     ]
    }
   ],
   "source": [
    "# for 循环打印九九乘法表\n",
    "for i in range(1,10):\n",
    "    for j in range(1,i+1):\n",
    "        print(f\"{i}*{j}={i*j}\",end=\"\\t\")\n",
    "    print()"
   ]
  },
  {
   "cell_type": "code",
   "execution_count": 45,
   "metadata": {},
   "outputs": [
    {
     "data": {
      "text/plain": [
       "7"
      ]
     },
     "execution_count": 45,
     "metadata": {},
     "output_type": "execute_result"
    }
   ],
   "source": [
    "# 函数\n",
    "def add(a,b): # 函数的定义 a b 为形参 \n",
    "    reslut = a+b\n",
    "    return reslut # 若无return 返回值默认为None\n",
    "\n",
    "sum = add(5,2) # 1 2为实参 \n",
    "sum\n",
    "\n"
   ]
  },
  {
   "cell_type": "code",
   "execution_count": 48,
   "metadata": {},
   "outputs": [
    {
     "name": "stdout",
     "output_type": "stream",
     "text": [
      "9\n",
      "100\n"
     ]
    }
   ],
   "source": [
    "# 局部变量 全局变量\n",
    "a = 100\n",
    "def test():\n",
    "    a = 10\n",
    "    a = 9\n",
    "    print(a)\n",
    "\n",
    "test() # 就近原则 选择局部变量进行输出\n",
    "print(a)"
   ]
  },
  {
   "cell_type": "code",
   "execution_count": 49,
   "metadata": {},
   "outputs": [
    {
     "data": {
      "text/plain": [
       "3"
      ]
     },
     "execution_count": 49,
     "metadata": {},
     "output_type": "execute_result"
    }
   ],
   "source": [
    "# 匿名函数  函数名 = lambda 参数 表达式\n",
    "fun = lambda a,b:a+b\n",
    "fun(1,2)"
   ]
  },
  {
   "cell_type": "code",
   "execution_count": 50,
   "metadata": {},
   "outputs": [
    {
     "data": {
      "text/plain": [
       "120"
      ]
     },
     "execution_count": 50,
     "metadata": {},
     "output_type": "execute_result"
    }
   ],
   "source": [
    "def fun(n): # n! = n *（n-1）* ... * 1   5! = 5*4*3*2*1 =120\n",
    "    if n == 1:\n",
    "        return 1\n",
    "    else:\n",
    "        return n*fun(n-1)\n",
    "    \n",
    "fun(5) # 5* fun(4) = 5*4*fun(3) = 5*4*3*fun(2) = 5*4*3*2*fun(1)\n"
   ]
  },
  {
   "cell_type": "code",
   "execution_count": 57,
   "metadata": {},
   "outputs": [
    {
     "name": "stdout",
     "output_type": "stream",
     "text": [
      "水仙花数为153\n",
      "水仙花数为370\n",
      "水仙花数为371\n",
      "水仙花数为407\n"
     ]
    }
   ],
   "source": [
    "# 求解水仙花数 100-1000 153 = 1^3+5^3+3^3\n",
    "for i in range(100,1000): # 只能算三位数\n",
    "    a = i//100 # 百位\n",
    "    b = i//10%10 # 十位\n",
    "    c = i%10 # 个位\n",
    "    if i==a**3 + b**3+c**3: # ** 为幂运算\n",
    "        print(f\"水仙花数为{i}\")"
   ]
  },
  {
   "cell_type": "code",
   "execution_count": 6,
   "metadata": {},
   "outputs": [
    {
     "data": {
      "text/plain": [
       "4"
      ]
     },
     "execution_count": 6,
     "metadata": {},
     "output_type": "execute_result"
    }
   ],
   "source": [
    "a = 154\n",
    "c = a%10\n",
    "c"
   ]
  },
  {
   "cell_type": "code",
   "execution_count": null,
   "metadata": {},
   "outputs": [],
   "source": []
  }
 ],
 "metadata": {
  "kernelspec": {
   "display_name": "pytorch",
   "language": "python",
   "name": "python3"
  },
  "language_info": {
   "codemirror_mode": {
    "name": "ipython",
    "version": 3
   },
   "file_extension": ".py",
   "mimetype": "text/x-python",
   "name": "python",
   "nbconvert_exporter": "python",
   "pygments_lexer": "ipython3",
   "version": "3.12.9"
  }
 },
 "nbformat": 4,
 "nbformat_minor": 2
}
